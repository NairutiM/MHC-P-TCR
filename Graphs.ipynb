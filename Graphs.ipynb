{
 "cells": [
  {
   "cell_type": "code",
   "execution_count": 23,
   "metadata": {},
   "outputs": [
    {
     "name": "stdout",
     "output_type": "stream",
     "text": [
      "Requirement already satisfied: pandas in /Users/nairutimehta/opt/anaconda3/lib/python3.9/site-packages (1.4.2)\n",
      "Requirement already satisfied: matplotlib in /Users/nairutimehta/opt/anaconda3/lib/python3.9/site-packages (3.5.1)\n",
      "Requirement already satisfied: python-dateutil>=2.8.1 in /Users/nairutimehta/opt/anaconda3/lib/python3.9/site-packages (from pandas) (2.8.2)\n",
      "Requirement already satisfied: pytz>=2020.1 in /Users/nairutimehta/opt/anaconda3/lib/python3.9/site-packages (from pandas) (2021.3)\n",
      "Requirement already satisfied: numpy>=1.18.5 in /Users/nairutimehta/opt/anaconda3/lib/python3.9/site-packages (from pandas) (1.21.5)\n",
      "Requirement already satisfied: packaging>=20.0 in /Users/nairutimehta/opt/anaconda3/lib/python3.9/site-packages (from matplotlib) (21.3)\n",
      "Requirement already satisfied: pyparsing>=2.2.1 in /Users/nairutimehta/opt/anaconda3/lib/python3.9/site-packages (from matplotlib) (3.0.4)\n",
      "Requirement already satisfied: kiwisolver>=1.0.1 in /Users/nairutimehta/opt/anaconda3/lib/python3.9/site-packages (from matplotlib) (1.3.2)\n",
      "Requirement already satisfied: cycler>=0.10 in /Users/nairutimehta/opt/anaconda3/lib/python3.9/site-packages (from matplotlib) (0.11.0)\n",
      "Requirement already satisfied: fonttools>=4.22.0 in /Users/nairutimehta/opt/anaconda3/lib/python3.9/site-packages (from matplotlib) (4.25.0)\n",
      "Requirement already satisfied: pillow>=6.2.0 in /Users/nairutimehta/opt/anaconda3/lib/python3.9/site-packages (from matplotlib) (9.0.1)\n",
      "Requirement already satisfied: six>=1.5 in /Users/nairutimehta/opt/anaconda3/lib/python3.9/site-packages (from python-dateutil>=2.8.1->pandas) (1.16.0)\n",
      "Note: you may need to restart the kernel to use updated packages.\n"
     ]
    }
   ],
   "source": [
    "pip install pandas matplotlib"
   ]
  },
  {
   "cell_type": "code",
   "execution_count": 24,
   "metadata": {},
   "outputs": [],
   "source": [
    "import pandas as pd\n",
    "import numpy as np\n",
    "import matplotlib\n",
    "matplotlib.use('Agg')\n",
    "import matplotlib.pyplot as plt"
   ]
  },
  {
   "cell_type": "code",
   "execution_count": 25,
   "metadata": {},
   "outputs": [],
   "source": [
    "excel_file = pd.ExcelFile(\"/Users/nairutimehta/Desktop/Research/Thesis/Graphs/rank.xlsx\")\n",
    "df_4A = pd.read_excel(excel_file, sheet_name='4A')\n",
    "df_7A = pd.read_excel(excel_file,sheet_name='7A')"
   ]
  },
  {
   "cell_type": "code",
   "execution_count": 26,
   "metadata": {},
   "outputs": [
    {
     "name": "stdout",
     "output_type": "stream",
     "text": [
      "    Rank  No. of complexes\n",
      "0      1                14\n",
      "1      2                11\n",
      "2      3                12\n",
      "3      4                 4\n",
      "4      5                 3\n",
      "5      6                 1\n",
      "6      7                 1\n",
      "7      8                 2\n",
      "8      9                 1\n",
      "9     10                 1\n",
      "10    11                 0\n",
      "11    12                 0\n",
      "12    13                 2\n",
      "13    14                 2\n",
      "14    15                 4\n",
      "15    16                 1\n"
     ]
    }
   ],
   "source": [
    "print (df_4A)"
   ]
  },
  {
   "cell_type": "code",
   "execution_count": 30,
   "metadata": {},
   "outputs": [
    {
     "name": "stderr",
     "output_type": "stream",
     "text": [
      "/var/folders/n2/kylnwjhs1q12239qh52h4qx00000gn/T/ipykernel_37057/943947612.py:8: UserWarning: Matplotlib is currently using agg, which is a non-GUI backend, so cannot show the figure.\n",
      "  plt.show()\n"
     ]
    },
    {
     "data": {
      "image/png": "[encoded data removed]",
      "text/plain": [
       "<Figure size 432x288 with 1 Axes>"
      ]
     },
     "metadata": {
      "needs_background": "light"
     },
     "output_type": "display_data"
    }
   ],
   "source": [
    "categories_4A = df_4A['Rank']\n",
    "values_4A = df_4A['No. of complexes']\n",
    "# plt.figure(figsize=(4, 2), dpi=300)\n",
    "plt.bar(categories_4A, values_4A, color='green')\n",
    "plt.xlabel('Rank')\n",
    "plt.ylabel('No. of complexes')\n",
    "plt.title(' Ranking of the X-ray structure (4Å)')\n",
    "plt.show()\n",
    "plt.savefig('/Users/nairutimehta/Desktop/Research/Thesis/Graphs/4A_plot.png')\n",
    "\n"
   ]
  },
  {
   "cell_type": "code",
   "execution_count": 31,
   "metadata": {},
   "outputs": [
    {
     "name": "stdout",
     "output_type": "stream",
     "text": [
      "    Rank  No. of complexes\n",
      "0      1                24\n",
      "1      2                11\n",
      "2      3                 3\n",
      "3      4                 7\n",
      "4      5                 2\n",
      "5      6                 3\n",
      "6      7                 3\n",
      "7      8                 0\n",
      "8      9                 1\n",
      "9     10                 0\n",
      "10    11                 1\n",
      "11    12                 0\n",
      "12    13                 2\n",
      "13    14                 0\n",
      "14    15                 2\n",
      "15    16                 0\n"
     ]
    }
   ],
   "source": [
    "print (df_7A)"
   ]
  },
  {
   "cell_type": "code",
   "execution_count": 32,
   "metadata": {},
   "outputs": [
    {
     "name": "stderr",
     "output_type": "stream",
     "text": [
      "/var/folders/n2/kylnwjhs1q12239qh52h4qx00000gn/T/ipykernel_37057/1497436148.py:8: UserWarning: Matplotlib is currently using agg, which is a non-GUI backend, so cannot show the figure.\n",
      "  plt.show()\n"
     ]
    },
    {
     "data": {
      "image/png": "[encoded data removed]",
      "text/plain": [
       "<Figure size 432x288 with 1 Axes>"
      ]
     },
     "metadata": {
      "needs_background": "light"
     },
     "output_type": "display_data"
    }
   ],
   "source": [
    "categories_7A = df_7A['Rank']\n",
    "values_7A = df_7A['No. of complexes']\n",
    "# plt.figure(figsize=(4, 2), dpi=300)\n",
    "plt.bar(categories_4A, values_4A, color='orange')\n",
    "plt.xlabel('Rank')\n",
    "plt.ylabel('No. of complexes')\n",
    "plt.title(' Ranking of the X-ray structure (7Å)')\n",
    "plt.show()\n",
    "plt.savefig('/Users/nairutimehta/Desktop/Research/Thesis/Graphs/7A_plot.png')"
   ]
  }
 ],
 "metadata": {
  "kernelspec": {
   "display_name": "base",
   "language": "python",
   "name": "python3"
  },
  "language_info": {
   "codemirror_mode": {
    "name": "ipython",
    "version": 3
   },
   "file_extension": ".py",
   "mimetype": "text/x-python",
   "name": "python",
   "nbconvert_exporter": "python",
   "pygments_lexer": "ipython3",
   "version": "3.9.12"
  },
  "orig_nbformat": 4
 },
 "nbformat": 4,
 "nbformat_minor": 2
}
